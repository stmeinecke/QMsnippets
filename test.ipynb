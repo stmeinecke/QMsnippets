{
 "cells": [
  {
   "cell_type": "code",
   "execution_count": 3,
   "id": "f9be32e4",
   "metadata": {},
   "outputs": [
    {
     "ename": "NameError",
     "evalue": "name 'x' is not defined",
     "output_type": "error",
     "traceback": [
      "\u001b[0;31m---------------------------------------------------------------------------\u001b[0m",
      "\u001b[0;31mNameError\u001b[0m                                 Traceback (most recent call last)",
      "Input \u001b[0;32mIn [3]\u001b[0m, in \u001b[0;36m<cell line: 68>\u001b[0;34m()\u001b[0m\n\u001b[1;32m     65\u001b[0m p0 \u001b[38;5;241m=\u001b[39m \u001b[38;5;241m2.0\u001b[39m\n\u001b[1;32m     66\u001b[0m d \u001b[38;5;241m=\u001b[39m np\u001b[38;5;241m.\u001b[39msqrt(N_t\u001b[38;5;241m*\u001b[39mdt\u001b[38;5;241m/\u001b[39m\u001b[38;5;241m2.\u001b[39m)\n\u001b[0;32m---> 68\u001b[0m psi_0 \u001b[38;5;241m=\u001b[39m oneD_gaussian(\u001b[43mx\u001b[49m,x\u001b[38;5;241m.\u001b[39mmax()\u001b[38;5;241m-\u001b[39m\u001b[38;5;241m10\u001b[39m\u001b[38;5;241m*\u001b[39md,d,\u001b[38;5;241m-\u001b[39mp0)\n",
      "\u001b[0;31mNameError\u001b[0m: name 'x' is not defined"
     ]
    }
   ],
   "source": [
    "import numpy as np\n",
    "from scipy.linalg import solve_banded\n",
    "from scipy.fftpack import fft,ifft,fft2,ifft2\n",
    "\n",
    "def split_step_schrodinger(psi_0, dx, dt, V, N, x_0 = 0., k_0 = None, m = 1.0, non_linear = False):\n",
    "\n",
    "\tlen_x = psi_0.shape[0]\n",
    "\n",
    "\tx = x_0 + dx*np.arange(len_x)\n",
    "\n",
    "\tdk_x = (2*np.pi)/(len_x*dx)\n",
    "\tif k_0 == None:\n",
    "\t\tk_0 = -np.pi/dx\n",
    "\tk_x = k_0+dk_x*np.arange(len_x)\n",
    "\n",
    "\tpsi_x = np.zeros((len_x,N), dtype = np.complex128)\n",
    "\tpsi_k = np.zeros((len_x,N), dtype = np.complex128)\n",
    "\tpsi_mod_x = np.zeros((len_x), dtype = np.complex128)\n",
    "\tpsi_mod_k = np.zeros((len_x), dtype = np.complex128)\n",
    "\tpsi_x[:,0] = psi_0\n",
    "\n",
    "\tif not non_linear:\n",
    "\t\tV_n = V(x)\n",
    "\telse:\n",
    "\t\tV_n = V(x,psi_0)\n",
    "\n",
    "\tdef _compute_psi_mod(j):\n",
    "\t\treturn (dx/np.sqrt(2*np.pi))*psi_x[:,j]*np.exp(-1.0j*k_x[0]*x)\n",
    "\n",
    "\tdef _compute_psi(j):\n",
    "\t\tpsi_x[:,j] = (np.sqrt(2*np.pi)/dx)*psi_mod_x*np.exp(1.0j*k_x[0]*x)\n",
    "\t\tpsi_k[:,j] = psi_mod_k*np.exp(-1.0j*x[0]*dk_x*np.arange(len_x))\n",
    "\n",
    "\tdef _x_half_step(j,ft = True):\n",
    "\t\tif ft == True:\n",
    "\t\t\tpsi_mod_x[:] = ifft(psi_mod_k[:])\n",
    "\t\tif non_linear:\n",
    "\t\t\tV_n[:] = V(x,psi_x[:,j])\n",
    "\t\tpsi_mod_x[:] = psi_mod_x[:]*np.exp(-1.0j*(dt/2.)*V_n)\t\n",
    "\n",
    "\tdef _k_full_step():\n",
    "\t\tpsi_mod_k[:] = fft(psi_mod_x[:])\n",
    "\t\tpsi_mod_k[:] = psi_mod_k[:]*np.exp(-1.0j*k_x**2*dt/(2.*m))\t\t\n",
    "\n",
    "\tdef _main_loop():\n",
    "\t\tpsi_mod_x[:] = _compute_psi_mod(0)\n",
    "\n",
    "\t\tfor i in range(N-1):\n",
    "\t\t\t_x_half_step(i,ft = False)\n",
    "\t\t\t_k_full_step()\n",
    "\t\t\t_x_half_step(i)\n",
    "\t\t\t_compute_psi(i+1)\n",
    "\n",
    "\t_main_loop()\n",
    "\n",
    "\treturn psi_x,psi_k,k_x\n",
    "\n",
    "\n",
    "def oneD_gaussian(x,mean,std,k0):\n",
    "    return np.exp(-((x-mean)**2)/(4*std**2)+ 1j*x*k0)/(2*np.pi*std**2)**0.25\n",
    "\n",
    "dt = 0.01\n",
    "N_t = 2000\n",
    "\n",
    "p0 = 2.0\n",
    "d = np.sqrt(N_t*dt/2.)\n",
    "\n",
    "psi_0 = oneD_gaussian(x,x.max()-10*d,d,-p0)"
   ]
  }
 ],
 "metadata": {
  "kernelspec": {
   "display_name": "Python 3 (ipykernel)",
   "language": "python",
   "name": "python3"
  },
  "language_info": {
   "codemirror_mode": {
    "name": "ipython",
    "version": 3
   },
   "file_extension": ".py",
   "mimetype": "text/x-python",
   "name": "python",
   "nbconvert_exporter": "python",
   "pygments_lexer": "ipython3",
   "version": "3.9.2"
  }
 },
 "nbformat": 4,
 "nbformat_minor": 5
}
